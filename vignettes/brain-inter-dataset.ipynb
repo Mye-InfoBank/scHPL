{
 "cells": [
  {
   "cell_type": "markdown",
   "metadata": {},
   "source": [
    "# Brain inter-dataset\n",
    "\n",
    "Warning: vignette for scHPL v. 0.0.2, this should be updated"
   ]
  },
  {
   "cell_type": "code",
   "execution_count": 1,
   "metadata": {
    "execution": {
     "iopub.execute_input": "2021-03-01T08:01:38.501169Z",
     "iopub.status.busy": "2021-03-01T08:01:38.498915Z",
     "iopub.status.idle": "2021-03-01T08:02:17.562052Z",
     "shell.execute_reply": "2021-03-01T08:02:17.562852Z"
    }
   },
   "outputs": [],
   "source": [
    "import os\n",
    "import pandas as pd\n",
    "import time as tm\n",
    "import scanpy as sc\n",
    "from scHPL import progressive_learning, predict, evaluate"
   ]
  },
  {
   "cell_type": "markdown",
   "metadata": {},
   "source": [
    "During this vignette we will repeat the brain inter-dataset experiment. We use the three datasets to construct a tree for brain cell populations. The aligned datasets and labels can be downloaded from https://doi.org/10.5281/zenodo.4557712"
   ]
  },
  {
   "cell_type": "markdown",
   "metadata": {},
   "source": [
    "### Read the data\n",
    "\n",
    "We start with reading the different datasets and corresponding labels. Here we use an Anndata object and transform this into a pandas dataframe.\n",
    "\n",
    "In the datasets, the rows represent different cells and columns represent the genes"
   ]
  },
  {
   "cell_type": "code",
   "execution_count": 2,
   "metadata": {
    "execution": {
     "iopub.execute_input": "2021-03-01T08:02:17.578955Z",
     "iopub.status.busy": "2021-03-01T08:02:17.578018Z",
     "iopub.status.idle": "2021-03-01T08:04:23.964565Z",
     "shell.execute_reply": "2021-03-01T08:04:23.963724Z"
    }
   },
   "outputs": [],
   "source": [
    "adata = sc.read('brain_downsampled5000_integrated.h5ad')\n",
    "\n",
    "groups = adata.obs.groupby('dataset').indices\n",
    "\n",
    "TM = adata[groups['TM']]\n",
    "RO = adata[groups['Rosenberg']]\n",
    "ZE = adata[groups['Zeisel']]\n",
    "SA = adata[groups['Saunders']]\n",
    "\n",
    "data = []\n",
    "labels = []\n",
    "\n",
    "data.append(pd.DataFrame(data = SA.X, index = SA.obs_names, columns=SA.var_names))\n",
    "labels.append(pd.DataFrame(data = SA.obs['original2'].values).stack().str.replace(',','_').unstack())\n",
    "\n",
    "data.append(pd.DataFrame(data = ZE.X, index = ZE.obs_names, columns=ZE.var_names))\n",
    "labels.append(pd.DataFrame(data = ZE.obs['original2'].values).stack().str.replace(',','_').unstack())\n",
    "\n",
    "data.append(pd.DataFrame(data = TM.X, index = TM.obs_names, columns=TM.var_names))\n",
    "labels.append(pd.DataFrame(data = TM.obs['original'].values))\n",
    "\n",
    "testdata = pd.DataFrame(data = RO.X, index = RO.obs_names, columns=RO.var_names)\n",
    "testlabels = pd.DataFrame(data = RO.obs['original'].values)"
   ]
  },
  {
   "cell_type": "markdown",
   "metadata": {},
   "source": [
    "### Construct and train the classification tree\n",
    "\n",
    "Next, we use hierarchical progressive learning to construct and train a classification tree. After each iteration, an updated tree will be printed. If two labels have a perfect match, one of the labels will not be visible in the tree. Therefore, we will also indicate these perfect matches using a print statement\n",
    "\n",
    "In this vignette, we use the one-class SVM, apply dimensionality reduction and use the default threshold of 0.25. In you want to use a linear SVM, the following can be used: classifier = 'svm'. When using a linear SVM, we advise to set dimred to False."
   ]
  },
  {
   "cell_type": "code",
   "execution_count": 3,
   "metadata": {
    "execution": {
     "iopub.execute_input": "2021-03-01T08:04:23.972788Z",
     "iopub.status.busy": "2021-03-01T08:04:23.971887Z",
     "iopub.status.idle": "2021-03-01T13:03:00.902664Z",
     "shell.execute_reply": "2021-03-01T13:03:00.885333Z"
    }
   },
   "outputs": [
    {
     "name": "stdout",
     "output_type": "stream",
     "text": [
      "Iteration  1 \n",
      "\n",
      "Perfect match:  Ependymal-Zeisel is now: EPENDYMAL-Saunders\n",
      "Perfect match:  Neurons-Zeisel is now: NEURON-Saunders\n",
      "\n",
      "Updated tree:\n",
      "root\n",
      "\tASTROCYTE-Saunders\n",
      "\t\tAstrocyte-Zeisel\n",
      "\t\tBergmann-glia-Zeisel\n",
      "\t\tOEC-Zeisel\n",
      "\tEPENDYMAL-Saunders\n",
      "\tNEUROGENESIS-Saunders\n",
      "\t\tNeurons_Cycling-Zeisel\n",
      "\tNEURON-Saunders\n",
      "\tVascular-Zeisel\n",
      "\t\tENDOTHELIAL_STALK-Saunders\n",
      "\t\tENDOTHELIAL_TIP-Saunders\n",
      "\t\tMURAL-Saunders\n",
      "\tImmune-Zeisel\n",
      "\t\tMACROPHAGE-Saunders\n",
      "\t\tMICROGLIA-Saunders\n",
      "\tOligos-Zeisel\n",
      "\t\tOLIGODENDROCYTE-Saunders\n",
      "\t\tPOLYDENDROCYTE-Saunders\n",
      "\tOligos_Cycling-Zeisel\n",
      "\tTtr-Zeisel\n",
      "Iteration  2 \n",
      "\n",
      "Perfect match:  endothelial cell-TM is now: ENDOTHELIAL_STALK-Saunders\n",
      "Perfect match:  microglial cell-TM is now: Immune-Zeisel\n",
      "Perfect match:  brain pericyte-TM is now: MURAL-Saunders\n",
      "Perfect match:  Bergmann glial cell-TM is now: Bergmann-glia-Zeisel\n",
      "Perfect match:  oligodendrocyte-TM is now: OLIGODENDROCYTE-Saunders\n",
      "Perfect match:  oligodendrocyte precursor cell-TM is now: POLYDENDROCYTE-Saunders\n",
      "\n",
      "Updated tree:\n",
      "root\n",
      "\tASTROCYTE-Saunders\n",
      "\t\tBergmann-glia-Zeisel\n",
      "\t\tastrocyte of the cerebral cortex-TM\n",
      "\t\t\tAstrocyte-Zeisel\n",
      "\t\t\tOEC-Zeisel\n",
      "\tEPENDYMAL-Saunders\n",
      "\tVascular-Zeisel\n",
      "\t\tENDOTHELIAL_STALK-Saunders\n",
      "\t\tENDOTHELIAL_TIP-Saunders\n",
      "\t\tMURAL-Saunders\n",
      "\tImmune-Zeisel\n",
      "\t\tMACROPHAGE-Saunders\n",
      "\t\tMICROGLIA-Saunders\n",
      "\tOligos-Zeisel\n",
      "\t\tOLIGODENDROCYTE-Saunders\n",
      "\t\tPOLYDENDROCYTE-Saunders\n",
      "\tOligos_Cycling-Zeisel\n",
      "\tTtr-Zeisel\n",
      "\tneuron-TM\n",
      "\t\tNEUROGENESIS-Saunders\n",
      "\t\t\tNeurons_Cycling-Zeisel\n",
      "\t\tNEURON-Saunders\n",
      "\tmacrophage-TM\n",
      "Training time: 17915.45694875717\n"
     ]
    }
   ],
   "source": [
    "start = tm.time()\n",
    "classifier = 'svm_occ'\n",
    "dimred = True\n",
    "threshold = 0.25\n",
    "tree = progressive_learning.learn_tree(data, labels, classifier = classifier, dimred = dimred, threshold = threshold)\n",
    "\n",
    "training_time = tm.time()-start\n",
    "\n",
    "print('Training time:', training_time)"
   ]
  },
  {
   "cell_type": "markdown",
   "metadata": {},
   "source": [
    "### Predict the labels of the fourth dataset\n",
    "\n",
    "In this last step, we use the learned tree to predict the labels of the Rosenberg dataset"
   ]
  },
  {
   "cell_type": "code",
   "execution_count": 4,
   "metadata": {
    "execution": {
     "iopub.execute_input": "2021-03-01T13:03:01.266697Z",
     "iopub.status.busy": "2021-03-01T13:03:01.227447Z",
     "iopub.status.idle": "2021-03-01T13:23:21.835530Z",
     "shell.execute_reply": "2021-03-01T13:23:21.864707Z"
    }
   },
   "outputs": [
    {
     "name": "stdout",
     "output_type": "stream",
     "text": [
      "Predict time: 1220.4297716617584\n"
     ]
    }
   ],
   "source": [
    "start = tm.time()\n",
    "ypred = predict.predict_labels(testdata, tree)\n",
    "test_time = tm.time()-start\n",
    "print('Predict time:', test_time)"
   ]
  }
 ],
 "metadata": {
  "kernelspec": {
   "display_name": "Python 3 (ipykernel)",
   "language": "python",
   "name": "python3"
  },
  "language_info": {
   "codemirror_mode": {
    "name": "ipython",
    "version": 3
   },
   "file_extension": ".py",
   "mimetype": "text/x-python",
   "name": "python",
   "nbconvert_exporter": "python",
   "pygments_lexer": "ipython3",
   "version": "3.8.3"
  }
 },
 "nbformat": 4,
 "nbformat_minor": 4
}
